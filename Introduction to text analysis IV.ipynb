{
 "cells": [
  {
   "cell_type": "markdown",
   "metadata": {},
   "source": [
    "## Introduction to text analysis IV ##"
   ]
  },
  {
   "cell_type": "markdown",
   "metadata": {},
   "source": [
    "The stopwords are the most common *context free* words of a language. For instance articles, prepositions, adverbs, but also common names"
   ]
  },
  {
   "cell_type": "code",
   "execution_count": 1,
   "metadata": {
    "collapsed": true
   },
   "outputs": [],
   "source": [
    "import nltk\n",
    "import codecs"
   ]
  },
  {
   "cell_type": "code",
   "execution_count": 2,
   "metadata": {
    "collapsed": true
   },
   "outputs": [],
   "source": [
    "from nltk.corpus import stopwords\n",
    "stop = set(stopwords.words('english'))\n",
    "italian = set(stopwords.words('italian'))"
   ]
  },
  {
   "cell_type": "code",
   "execution_count": 46,
   "metadata": {},
   "outputs": [
    {
     "name": "stdout",
     "output_type": "stream",
     "text": [
      "['further', 'aren', 'themselves', 'shouldn', 've', 'up', 'where', 'o', 'out', 's', 'me', 'any', 'can', 'for', 'she', 'i', 'am', 'my', 'in', 'mightn', 'he', 'this', 'on', 'do', 'why', 'whom', 'before', 'few', 'ma', 'we', 'they', 'hers', 'most', 'it', 'no', 'these', 'don', 'haven', 'mustn', 'couldn', 'doing', 'too', 'very', 'again', 'be', 'myself', 'has', 'other', 'as', 'against', 'but', 'which', 'during', 'from', 'll', 'once', 'some', 'with', 'you', 'being', 'having', 'd', 'ours', 'himself', 'if', 'there', 'between', 'hadn', 'an', 'down', 'all', 'then', 'had', 'didn', 'more', 'ain', 'wouldn', 'yours', 'only', 'both', 't', 'y', 'yourselves', 'so', 'them', 'needn', 'were', 'theirs', 'while', 'does', 'below', 'over', 'or', 'hasn', 'wasn', 'are', 'here', 'now', 'until', 'its', 'at', 'is', 'his', 'should', 'of', 'and', 'weren', 'to', 'nor', 'been', 'itself', 'each', 'because', 'by', 'what', 'than', 'won', 'those', 'through', 'just', 'their', 'above', 'yourself', 'did', 'a', 'into', 're', 'about', 'him', 'such', 'our', 'the', 'own', 'who', 'not', 'isn', 'doesn', 'same', 'under', 'her', 'herself', 'will', 'have', 'when', 'how', 'shan', 'your', 'that', 'was', 'after', 'm', 'ourselves', 'off']\n"
     ]
    }
   ],
   "source": [
    "len(stop)\n",
    "print(list(stop))"
   ]
  },
  {
   "cell_type": "code",
   "execution_count": 48,
   "metadata": {},
   "outputs": [
    {
     "name": "stdout",
     "output_type": "stream",
     "text": [
      "{'tra', 'loro', 'fossimo', 'farebbero', 'steste', 'dai', 'alla', 'staremo', 'al', 'gli', 'avranno', 'abbiano', 'furono', 'c', 'è', 'sui', 'facevamo', 'fosse', 'dagl', 'fossero', 'o', 'nei', 'avrei', 'cui', 'vi', 'noi', 'quanti', 'avresti', 'avute', 'siate', 'avessero', 'fanno', 'nella', 'avremo', 'fossi', 'quale', 'stessero', 'stiate', 'i', 'quella', 'tutti', 'sarete', 'in', 'starebbe', 'il', 'avevate', 'facendo', 'dov', 'chi', 'faremo', 'facevi', 'siete', 'per', 'facemmo', 'ma', 'starebbero', 'sarò', 'mio', 'tuo', 'saremmo', 'ad', 'sugli', 'stiano', 'stesse', 'le', 'stavo', 'facessimo', 'starai', 'avessi', 'si', 'sei', 'tua', 'vostro', 'avrebbero', 'questo', 'fecero', 'staresti', 'avuti', 'facciano', 'facciamo', 'sullo', 'starete', 'tutto', 'avrebbe', 'li', 'saresti', 'avrà', 'hanno', 'avevano', 'non', 'quante', 'stetti', 'erano', 'stiamo', 'stavano', 'sul', 'ebbi', 'su', 'negli', 'dal', 'staranno', 'questa', 'contro', 'se', 'fummo', 'perché', 'stava', 'sua', 'sia', 'nel', 'vostre', 'avesti', 'sugl', 'nostra', 'avrete', 'sarebbe', 'fosti', 'stessi', 'nello', 'ebbe', 'avessimo', 'faremmo', 'abbiate', 'hai', 'facesse', 'eravate', 'farete', 'con', 'feci', 'all', 'tue', 'sulle', 'saremo', 'tu', 'facevate', 'dagli', 'di', 'sarai', 'nelle', 'ebbero', 'sta', 'ai', 'voi', 'fai', 'alle', 'mie', 'l', 'stavate', 'suoi', 'come', 'fece', 'tuoi', 'foste', 'farai', 'ti', 'e', 'sulla', 'faranno', 'mi', 'un', 'agl', 'degli', 'facevo', 'stareste', 'eravamo', 'stesti', 'dalla', 'questi', 'farà', 'queste', 'staremmo', 'aveva', 'quanto', 'dallo', 'sto', 'siamo', 'avremmo', 'avevamo', 'faceva', 'uno', 'quelli', 'sarebbero', 'avevo', 'stai', 'avevi', 'che', 'stette', 'mia', 'vostri', 'farei', 'avemmo', 'quanta', 'era', 'sue', 'abbiamo', 'avesse', 'avendo', 'avuta', 'sarei', 'la', 'dei', 'sull', 'faccio', 'farò', 'facciate', 'faceste', 'avrò', 'coi', 'una', 'nell', 'essendo', 'stessimo', 'ho', 'facessero', 'della', 'io', 'farebbe', 'dell', 'stanno', 'negl', 'nostre', 'a', 'col', 'da', 'nostri', 'vostra', 'degl', 'suo', 'facessi', 'più', 'avrai', 'agli', 'eri', 'miei', 'lui', 'anche', 'stavamo', 'sarà', 'sareste', 'aveste', 'stettero', 'fareste', 'faccia', 'sono', 'faresti', 'fu', 'quelle', 'stia', 'allo', 'ne', 'del', 'avreste', 'starò', 'siano', 'ero', 'stavi', 'dove', 'facesti', 'ed', 'fui', 'starà', 'delle', 'lei', 'ha', 'ci', 'saranno', 'stemmo', 'dall', 'dalle', 'avete', 'quello', 'lo', 'dello', 'abbia', 'avuto', 'stando', 'starei', 'facevano', 'nostro'}\n"
     ]
    }
   ],
   "source": [
    "print(italian)"
   ]
  },
  {
   "cell_type": "markdown",
   "metadata": {},
   "source": [
    "** stop words are tipically removed during text analysis **"
   ]
  },
  {
   "cell_type": "code",
   "execution_count": 3,
   "metadata": {
    "collapsed": true
   },
   "outputs": [],
   "source": [
    "text = codecs.open(\"inaug_speeches.csv\",\"r\",\"iso-8859-2\").read()"
   ]
  },
  {
   "cell_type": "code",
   "execution_count": 9,
   "metadata": {
    "collapsed": true
   },
   "outputs": [],
   "source": [
    "from nltk.tokenize import word_tokenize"
   ]
  },
  {
   "cell_type": "code",
   "execution_count": 10,
   "metadata": {
    "collapsed": true
   },
   "outputs": [],
   "source": [
    "chunk = text[0:2000]"
   ]
  },
  {
   "cell_type": "code",
   "execution_count": 11,
   "metadata": {},
   "outputs": [],
   "source": [
    "tokens = word_tokenize(chunk)"
   ]
  },
  {
   "cell_type": "code",
   "execution_count": 54,
   "metadata": {},
   "outputs": [
    {
     "name": "stdout",
     "output_type": "stream",
     "text": [
      "['``', '``', ',', \"''\", 'Name', \"''\", ',', \"''\", 'Inaugural', 'Address', \"''\", ',', \"''\", 'Date', \"''\", ',', \"''\", 'text', \"''\", \"''\", '4', \"''\", ',', \"''\", 'George', 'Washington', \"''\", ',', \"''\", 'First', 'Inaugural', 'Address', \"''\", ',', \"''\", 'Thursday', ',', 'April', '30', ',', '1789', \"''\", ',', \"''\", 'Fellow-Citizens', 'of', 'the', 'Senate', 'and', 'of', 'the', 'House', 'of', 'Representatives', ':', 'AMONG', 'the', 'vicissitudes', 'incident', 'to', 'life', 'no', 'event', 'could', 'have', 'filled', 'me', 'with', 'greater', 'anxieties', 'than', 'that', 'of', 'which', 'the', 'notification', 'was', 'transmitted', 'by', 'your', 'order', ',', 'and', 'received', 'on', 'the', 'th', 'day', 'of', 'the', 'present', 'month', '.', 'On', 'the', 'one', 'hand', ',', 'I', 'was', 'summoned', 'by', 'my', 'country', ',', 'whose', 'voice', 'I', 'can', 'never', 'hear', 'but', 'with', 'veneration', 'and', 'love', ',', 'from', 'a', 'retreat', 'which', 'I', 'had', 'chosen', 'with', 'the', 'fondest', 'predilection', ',', 'and', ',', 'in', 'my', 'flattering', 'hopes', ',', 'with', 'an', 'immutable', 'decision', ',', 'as', 'the', 'asylum', 'of', 'my', 'declining', 'years', '<', 'U+0097', '>', 'a', 'retreat', 'which', 'was', 'rendered', 'every', 'day', 'more', 'necessary', 'as', 'well', 'as', 'more', 'dear', 'to', 'me', 'by', 'the', 'addition', 'of', 'habit', 'to', 'inclination', ',', 'and', 'of', 'frequent', 'interruptions', 'in', 'my', 'health', 'to', 'the', 'gradual', 'waste', 'committed', 'on', 'it', 'by', 'time', '.', 'On', 'the', 'other', 'hand', ',', 'the', 'magnitude', 'and', 'difficulty', 'of', 'the', 'trust', 'to', 'which', 'the', 'voice', 'of', 'my', 'country', 'called', 'me', ',', 'being', 'sufficient', 'to', 'awaken', 'in', 'the', 'wisest', 'and', 'most', 'experienced', 'of', 'her', 'citizens', 'a', 'distrustful', 'scrutiny', 'into', 'his', 'qualifications', ',', 'could', 'not', 'but', 'overwhelm', 'with', 'despondence', 'one', 'who', '(', 'inheriting', 'inferior', 'endowments', 'from', 'nature', 'and', 'unpracticed', 'in', 'the', 'duties', 'of', 'civil', 'administration', ')', 'ought', 'to', 'be', 'peculiarly', 'conscious', 'of', 'his', 'own', 'deficiencies', '.', 'In', 'this', 'conflict', 'of', 'emotions', 'all', 'I', 'dare', 'aver', 'is', 'that', 'it', 'has', 'been', 'my', 'faithful', 'study', 'to', 'collect', 'my', 'duty', 'from', 'a', 'just', 'appreciation', 'of', 'every', 'circumstance', 'by', 'which', 'it', 'might', 'be', 'affected', '.', 'All', 'I', 'dare', 'hope', 'is', 'that', 'if', ',', 'in', 'executing', 'this', 'task', ',', 'I', 'have', 'been', 'too', 'much', 'swayed', 'by', 'a', 'grateful', 'remembrance', 'of', 'former', 'instances', ',', 'or', 'by', 'an', 'affectionate', 'sensibility', 'to', 'this', 'transcendent', 'proof', 'of', 'the', 'confidence', 'of', 'my', 'fellow-citizens', ',', 'and', 'have', 'thence', 'too', 'little', 'consulted', 'my', 'incapacity', 'as', 'well', 'as', 'disinclination', 'for', 'the', 'weighty', 'and', 'untried', 'cares', 'before', 'me', ',', 'my', 'error', 'will', 'be', 'palliated', 'by', 'the', 'motives', 'which', 'mislead', 'me', ',', 'and', 'its', 'consequences', 'be', 'judged', 'by', 'my', 'country', 'with', 'some', 'share', 'of', 'the', 'partial']\n"
     ]
    }
   ],
   "source": [
    "print(tokens)"
   ]
  },
  {
   "cell_type": "markdown",
   "metadata": {},
   "source": [
    "** removing stop words **"
   ]
  },
  {
   "cell_type": "code",
   "execution_count": 12,
   "metadata": {},
   "outputs": [],
   "source": [
    "filtered = []\n",
    "for t in tokens:\n",
    "    if(t not in stop):\n",
    "        filtered.append(t)\n",
    "    else:\n",
    "        if(t is in myspeciallist):\n",
    "            filtered.append(t)"
   ]
  },
  {
   "cell_type": "code",
   "execution_count": 13,
   "metadata": {},
   "outputs": [],
   "source": [
    "filteredLowerCase = []\n",
    "for t in tokens:\n",
    "    if(t.lower() not in stop):\n",
    "        filteredLowerCase.append(t)"
   ]
  },
  {
   "cell_type": "code",
   "execution_count": 58,
   "metadata": {},
   "outputs": [
    {
     "name": "stdout",
     "output_type": "stream",
     "text": [
      "219\n",
      "209\n"
     ]
    }
   ],
   "source": [
    "print(len(filtered))\n",
    "print(len(filteredLowerCase))"
   ]
  },
  {
   "cell_type": "code",
   "execution_count": 57,
   "metadata": {},
   "outputs": [
    {
     "name": "stdout",
     "output_type": "stream",
     "text": [
      "['``', '``', ',', \"''\", 'Name', \"''\", ',', \"''\", 'Inaugural', 'Address', \"''\", ',', \"''\", 'Date', \"''\", ',', \"''\", 'text', \"''\", \"''\", '4', \"''\", ',', \"''\", 'George', 'Washington', \"''\", ',', \"''\", 'First', 'Inaugural', 'Address', \"''\", ',', \"''\", 'Thursday', ',', 'April', '30', ',', '1789', \"''\", ',', \"''\", 'Fellow-Citizens', 'Senate', 'House', 'Representatives', ':', 'AMONG', 'vicissitudes', 'incident', 'life', 'event', 'could', 'filled', 'greater', 'anxieties', 'notification', 'transmitted', 'order', ',', 'received', 'th', 'day', 'present', 'month', '.', 'one', 'hand', ',', 'summoned', 'country', ',', 'whose', 'voice', 'never', 'hear', 'veneration', 'love', ',', 'retreat', 'chosen', 'fondest', 'predilection', ',', ',', 'flattering', 'hopes', ',', 'immutable', 'decision', ',', 'asylum', 'declining', 'years', '<', 'U+0097', '>', 'retreat', 'rendered', 'every', 'day', 'necessary', 'well', 'dear', 'addition', 'habit', 'inclination', ',', 'frequent', 'interruptions', 'health', 'gradual', 'waste', 'committed', 'time', '.', 'hand', ',', 'magnitude', 'difficulty', 'trust', 'voice', 'country', 'called', ',', 'sufficient', 'awaken', 'wisest', 'experienced', 'citizens', 'distrustful', 'scrutiny', 'qualifications', ',', 'could', 'overwhelm', 'despondence', 'one', '(', 'inheriting', 'inferior', 'endowments', 'nature', 'unpracticed', 'duties', 'civil', 'administration', ')', 'ought', 'peculiarly', 'conscious', 'deficiencies', '.', 'conflict', 'emotions', 'dare', 'aver', 'faithful', 'study', 'collect', 'duty', 'appreciation', 'every', 'circumstance', 'might', 'affected', '.', 'dare', 'hope', ',', 'executing', 'task', ',', 'much', 'swayed', 'grateful', 'remembrance', 'former', 'instances', ',', 'affectionate', 'sensibility', 'transcendent', 'proof', 'confidence', 'fellow-citizens', ',', 'thence', 'little', 'consulted', 'incapacity', 'well', 'disinclination', 'weighty', 'untried', 'cares', ',', 'error', 'palliated', 'motives', 'mislead', ',', 'consequences', 'judged', 'country', 'share', 'partial']\n"
     ]
    }
   ],
   "source": [
    "print(filteredLowerCase)"
   ]
  },
  {
   "cell_type": "markdown",
   "metadata": {},
   "source": [
    "** remove punctuation **"
   ]
  },
  {
   "cell_type": "code",
   "execution_count": 14,
   "metadata": {
    "collapsed": true
   },
   "outputs": [],
   "source": [
    "import string\n",
    "from nltk import wordpunct_tokenize\n",
    "\n",
    "punctuation = string.punctuation\n",
    "\n"
   ]
  },
  {
   "cell_type": "code",
   "execution_count": 15,
   "metadata": {},
   "outputs": [
    {
     "name": "stdout",
     "output_type": "stream",
     "text": [
      "!\"#$%&'()*+,-./:;<=>?@[\\]^_`{|}~\n"
     ]
    }
   ],
   "source": [
    "print(punctuation)"
   ]
  },
  {
   "cell_type": "code",
   "execution_count": 17,
   "metadata": {
    "collapsed": true
   },
   "outputs": [],
   "source": [
    "filtered2 = []\n",
    "for f in filteredLowerCase:\n",
    "    if(f not in punctuation):\n",
    "        filtered2.append(f)"
   ]
  },
  {
   "cell_type": "code",
   "execution_count": 18,
   "metadata": {},
   "outputs": [
    {
     "name": "stdout",
     "output_type": "stream",
     "text": [
      "['``', '``', \"''\", 'Name', \"''\", \"''\", 'Inaugural', 'Address', \"''\", \"''\", 'Date', \"''\", \"''\", 'text', \"''\", \"''\", '4', \"''\", \"''\", 'George', 'Washington', \"''\", \"''\", 'First', 'Inaugural', 'Address', \"''\", \"''\", 'Thursday', 'April', '30', '1789', \"''\", \"''\", 'Fellow-Citizens', 'Senate', 'House', 'Representatives', 'AMONG', 'vicissitudes', 'incident', 'life', 'event', 'could', 'filled', 'greater', 'anxieties', 'notification', 'transmitted', 'order', 'received', 'th', 'day', 'present', 'month', 'one', 'hand', 'summoned', 'country', 'whose', 'voice', 'never', 'hear', 'veneration', 'love', 'retreat', 'chosen', 'fondest', 'predilection', 'flattering', 'hopes', 'immutable', 'decision', 'asylum', 'declining', 'years', 'U+0097', 'retreat', 'rendered', 'every', 'day', 'necessary', 'well', 'dear', 'addition', 'habit', 'inclination', 'frequent', 'interruptions', 'health', 'gradual', 'waste', 'committed', 'time', 'hand', 'magnitude', 'difficulty', 'trust', 'voice', 'country', 'called', 'sufficient', 'awaken', 'wisest', 'experienced', 'citizens', 'distrustful', 'scrutiny', 'qualifications', 'could', 'overwhelm', 'despondence', 'one', 'inheriting', 'inferior', 'endowments', 'nature', 'unpracticed', 'duties', 'civil', 'administration', 'ought', 'peculiarly', 'conscious', 'deficiencies', 'conflict', 'emotions', 'dare', 'aver', 'faithful', 'study', 'collect', 'duty', 'appreciation', 'every', 'circumstance', 'might', 'affected', 'dare', 'hope', 'executing', 'task', 'much', 'swayed', 'grateful', 'remembrance', 'former', 'instances', 'affectionate', 'sensibility', 'transcendent', 'proof', 'confidence', 'fellow-citizens', 'thence', 'little', 'consulted', 'incapacity', 'well', 'disinclination', 'weighty', 'untried', 'cares', 'error', 'palliated', 'motives', 'mislead', 'consequences', 'judged', 'country', 'share', 'partial']\n"
     ]
    }
   ],
   "source": [
    "print(filtered2)"
   ]
  },
  {
   "cell_type": "code",
   "execution_count": 19,
   "metadata": {},
   "outputs": [
    {
     "name": "stdout",
     "output_type": "stream",
     "text": [
      "172\n"
     ]
    }
   ],
   "source": [
    "print(len(filtered2))"
   ]
  },
  {
   "cell_type": "code",
   "execution_count": 20,
   "metadata": {},
   "outputs": [
    {
     "name": "stdout",
     "output_type": "stream",
     "text": [
      "219\n"
     ]
    }
   ],
   "source": [
    "print(len(filtered))"
   ]
  },
  {
   "cell_type": "code",
   "execution_count": 40,
   "metadata": {
    "collapsed": true
   },
   "outputs": [],
   "source": [
    "## punctuation removal is not optimal !"
   ]
  },
  {
   "cell_type": "markdown",
   "metadata": {},
   "source": [
    "** first strategy **"
   ]
  },
  {
   "cell_type": "markdown",
   "metadata": {},
   "source": [
    "Start from the beginning: "
   ]
  },
  {
   "cell_type": "code",
   "execution_count": 21,
   "metadata": {
    "collapsed": true
   },
   "outputs": [],
   "source": [
    "allText = []\n",
    "for c in chunk:\n",
    "    if(c not in punctuation):\n",
    "        allText.append(c)\n",
    "    else:\n",
    "        allText.append(\" \")\n",
    "\n",
    "reconstructed_text = \"\".join(allText)"
   ]
  },
  {
   "cell_type": "code",
   "execution_count": null,
   "metadata": {
    "collapsed": true
   },
   "outputs": [],
   "source": [
    "s = \"N.A.S.A\" --- > N A S A\n",
    "\n",
    "s = \"This.is.a.mistake\" --> This is a mistake"
   ]
  },
  {
   "cell_type": "code",
   "execution_count": 22,
   "metadata": {},
   "outputs": [
    {
     "name": "stdout",
     "output_type": "stream",
     "text": [
      "    Name   Inaugural Address   Date   text \r\n",
      " 4   George Washington   First Inaugural Address   Thursday  April 30  1789              Fellow Citizens of the Senate and of the House of Representatives     AMONG the vicissitudes incident to life no event could have filled me with greater anxieties than that of which the notification was transmitted by your order  and received on the   th day of the present month  On the one hand  I was summoned by my country  whose voice I can never hear but with veneration and love  from a retreat which I had chosen with the fondest predilection  and  in my flattering hopes  with an immutable decision  as the asylum of my declining years U 0097 a retreat which was rendered every day more necessary as well as more dear to me by the addition of habit to inclination  and of frequent interruptions in my health to the gradual waste committed on it by time  On the other hand  the magnitude and difficulty of the trust to which the voice of my country called me  being sufficient to awaken in the wisest and most experienced of her citizens a distrustful scrutiny into his qualifications  could not but overwhelm with despondence one who  inheriting inferior endowments from nature and unpracticed in the duties of civil administration  ought to be peculiarly conscious of his own deficiencies  In this conflict of emotions all I dare aver is that it has been my faithful study to collect my duty from a just appreciation of every circumstance by which it might be affected  All I dare hope is that if  in executing this task  I have been too much swayed by a grateful remembrance of former instances  or by an affectionate sensibility to this transcendent proof of the confidence of my fellow citizens  and have thence too little consulted my incapacity as well as disinclination for the weighty and untried cares before me  my error will be palliated by the motives which mislead me  and its consequences be judged by my country with some share of the partial\n"
     ]
    }
   ],
   "source": [
    "print(reconstructed_text)"
   ]
  },
  {
   "cell_type": "code",
   "execution_count": 23,
   "metadata": {
    "collapsed": true
   },
   "outputs": [],
   "source": [
    "tokens = word_tokenize(reconstructed_text)\n",
    "filtered = []\n",
    "for t in tokens:\n",
    "    if(t not in stop):\n",
    "        filtered.append(t)"
   ]
  },
  {
   "cell_type": "code",
   "execution_count": 24,
   "metadata": {},
   "outputs": [
    {
     "name": "stdout",
     "output_type": "stream",
     "text": [
      "['Name', 'Inaugural', 'Address', 'Date', 'text', '4', 'George', 'Washington', 'First', 'Inaugural', 'Address', 'Thursday', 'April', '30', '1789', 'Fellow', 'Citizens', 'Senate', 'House', 'Representatives', 'AMONG', 'vicissitudes', 'incident', 'life', 'event', 'could', 'filled', 'greater', 'anxieties', 'notification', 'transmitted', 'order', 'received', 'th', 'day', 'present', 'month', 'On', 'one', 'hand', 'I', 'summoned', 'country', 'whose', 'voice', 'I', 'never', 'hear', 'veneration', 'love', 'retreat', 'I', 'chosen', 'fondest', 'predilection', 'flattering', 'hopes', 'immutable', 'decision', 'asylum', 'declining', 'years', 'U', '0097', 'retreat', 'rendered', 'every', 'day', 'necessary', 'well', 'dear', 'addition', 'habit', 'inclination', 'frequent', 'interruptions', 'health', 'gradual', 'waste', 'committed', 'time', 'On', 'hand', 'magnitude', 'difficulty', 'trust', 'voice', 'country', 'called', 'sufficient', 'awaken', 'wisest', 'experienced', 'citizens', 'distrustful', 'scrutiny', 'qualifications', 'could', 'overwhelm', 'despondence', 'one', 'inheriting', 'inferior', 'endowments', 'nature', 'unpracticed', 'duties', 'civil', 'administration', 'ought', 'peculiarly', 'conscious', 'deficiencies', 'In', 'conflict', 'emotions', 'I', 'dare', 'aver', 'faithful', 'study', 'collect', 'duty', 'appreciation', 'every', 'circumstance', 'might', 'affected', 'All', 'I', 'dare', 'hope', 'executing', 'task', 'I', 'much', 'swayed', 'grateful', 'remembrance', 'former', 'instances', 'affectionate', 'sensibility', 'transcendent', 'proof', 'confidence', 'fellow', 'citizens', 'thence', 'little', 'consulted', 'incapacity', 'well', 'disinclination', 'weighty', 'untried', 'cares', 'error', 'palliated', 'motives', 'mislead', 'consequences', 'judged', 'country', 'share', 'partial']\n"
     ]
    }
   ],
   "source": [
    "print(filtered)"
   ]
  },
  {
   "cell_type": "code",
   "execution_count": 25,
   "metadata": {},
   "outputs": [
    {
     "name": "stdout",
     "output_type": "stream",
     "text": [
      "166\n"
     ]
    }
   ],
   "source": [
    "print(len(filtered))"
   ]
  },
  {
   "cell_type": "markdown",
   "metadata": {},
   "source": [
    "# Text Stemming  #"
   ]
  },
  {
   "cell_type": "markdown",
   "metadata": {},
   "source": [
    "\" Stemmers remove morphological affixes from words, leaving only the word stem.\""
   ]
  },
  {
   "cell_type": "markdown",
   "metadata": {},
   "source": [
    "In plain English a stemmer transform words to their logical root: Owners --> Owner  is a simple case of plural to singular"
   ]
  },
  {
   "cell_type": "code",
   "execution_count": 27,
   "metadata": {
    "collapsed": true
   },
   "outputs": [],
   "source": [
    "from nltk.stem.porter import PorterStemmer"
   ]
  },
  {
   "cell_type": "code",
   "execution_count": 28,
   "metadata": {
    "collapsed": true
   },
   "outputs": [],
   "source": [
    "porter_stemmer = PorterStemmer()"
   ]
  },
  {
   "cell_type": "code",
   "execution_count": 29,
   "metadata": {},
   "outputs": [
    {
     "name": "stdout",
     "output_type": "stream",
     "text": [
      "Word: Owner ; Stemmed: owner\n",
      "Word: Maximum ; Stemmed: maximum\n",
      "Word: Those ; Stemmed: those\n",
      "Word: Girls ; Stemmed: girl\n",
      "Word: Learning ; Stemmed: learn\n"
     ]
    }
   ],
   "source": [
    "tests = [ 'Owner', 'Maximum', 'Those', 'Girls', 'Learning']\n",
    "\n",
    "for t in tests:\n",
    "    print(\"Word: %s ; Stemmed: %s\"%(t, porter_stemmer.stem(t)))"
   ]
  },
  {
   "cell_type": "code",
   "execution_count": 33,
   "metadata": {
    "collapsed": true
   },
   "outputs": [],
   "source": [
    "## several words remain constant while others are reduced to their basic root ##"
   ]
  },
  {
   "cell_type": "code",
   "execution_count": 31,
   "metadata": {
    "collapsed": true
   },
   "outputs": [],
   "source": [
    "filtered_with_stem = []\n",
    "\n",
    "for word in filtered2:\n",
    "    stem = porter_stemmer.stem(word)\n",
    "    filtered_with_stem.append(stem)"
   ]
  },
  {
   "cell_type": "code",
   "execution_count": 32,
   "metadata": {},
   "outputs": [
    {
     "name": "stdout",
     "output_type": "stream",
     "text": [
      "['``', '``', \"''\", 'name', \"''\", \"''\", 'inaugur', 'address', \"''\", \"''\", 'date', \"''\", \"''\", 'text', \"''\", \"''\", '4', \"''\", \"''\", 'georg', 'washington', \"''\", \"''\", 'first', 'inaugur', 'address', \"''\", \"''\", 'thursday', 'april', '30', '1789', \"''\", \"''\", 'fellow-citizen', 'senat', 'hous', 'repres', 'among', 'vicissitud', 'incid', 'life', 'event', 'could', 'fill', 'greater', 'anxieti', 'notif', 'transmit', 'order', 'receiv', 'th', 'day', 'present', 'month', 'one', 'hand', 'summon', 'countri', 'whose', 'voic', 'never', 'hear', 'vener', 'love', 'retreat', 'chosen', 'fondest', 'predilect', 'flatter', 'hope', 'immut', 'decis', 'asylum', 'declin', 'year', 'u+0097', 'retreat', 'render', 'everi', 'day', 'necessari', 'well', 'dear', 'addit', 'habit', 'inclin', 'frequent', 'interrupt', 'health', 'gradual', 'wast', 'commit', 'time', 'hand', 'magnitud', 'difficulti', 'trust', 'voic', 'countri', 'call', 'suffici', 'awaken', 'wisest', 'experienc', 'citizen', 'distrust', 'scrutini', 'qualif', 'could', 'overwhelm', 'despond', 'one', 'inherit', 'inferior', 'endow', 'natur', 'unpract', 'duti', 'civil', 'administr', 'ought', 'peculiarli', 'consciou', 'defici', 'conflict', 'emot', 'dare', 'aver', 'faith', 'studi', 'collect', 'duti', 'appreci', 'everi', 'circumst', 'might', 'affect', 'dare', 'hope', 'execut', 'task', 'much', 'sway', 'grate', 'remembr', 'former', 'instanc', 'affection', 'sensibl', 'transcend', 'proof', 'confid', 'fellow-citizen', 'thenc', 'littl', 'consult', 'incapac', 'well', 'disinclin', 'weighti', 'untri', 'care', 'error', 'palliat', 'motiv', 'mislead', 'consequ', 'judg', 'countri', 'share', 'partial']\n"
     ]
    }
   ],
   "source": [
    "print(filtered_with_stem)"
   ]
  },
  {
   "cell_type": "code",
   "execution_count": 33,
   "metadata": {},
   "outputs": [
    {
     "name": "stdout",
     "output_type": "stream",
     "text": [
      "146\n",
      "139\n"
     ]
    }
   ],
   "source": [
    "## checking the effects using the sets:\n",
    "\n",
    "print(len(set(filtered)))\n",
    "\n",
    "print(len(set(filtered_with_stem)))\n"
   ]
  },
  {
   "cell_type": "code",
   "execution_count": null,
   "metadata": {
    "collapsed": true
   },
   "outputs": [],
   "source": [
    "## we collapsed 4 more words"
   ]
  },
  {
   "cell_type": "markdown",
   "metadata": {},
   "source": [
    "** a more aggressive stemmer **"
   ]
  },
  {
   "cell_type": "code",
   "execution_count": 34,
   "metadata": {
    "collapsed": true
   },
   "outputs": [],
   "source": [
    "from nltk.stem.lancaster import LancasterStemmer"
   ]
  },
  {
   "cell_type": "code",
   "execution_count": 35,
   "metadata": {
    "collapsed": true
   },
   "outputs": [],
   "source": [
    "lancaster_stemmer = LancasterStemmer()"
   ]
  },
  {
   "cell_type": "code",
   "execution_count": 36,
   "metadata": {
    "collapsed": true
   },
   "outputs": [],
   "source": [
    "filtered_with_stem_lancaster = []\n",
    "\n",
    "for word in filtered2:\n",
    "    stem = lancaster_stemmer.stem(word)\n",
    "    filtered_with_stem_lancaster.append(stem)"
   ]
  },
  {
   "cell_type": "code",
   "execution_count": 37,
   "metadata": {},
   "outputs": [
    {
     "name": "stdout",
     "output_type": "stream",
     "text": [
      "146\n",
      "138\n"
     ]
    }
   ],
   "source": [
    "## checking the effects using the sets:\n",
    "\n",
    "print(len(set(filtered)))\n",
    "\n",
    "print(len(set(filtered_with_stem_lancaster)))"
   ]
  },
  {
   "cell_type": "code",
   "execution_count": 38,
   "metadata": {},
   "outputs": [
    {
     "name": "stdout",
     "output_type": "stream",
     "text": [
      "['``', '``', \"''\", 'nam', \"''\", \"''\", 'inaug', 'address', \"''\", \"''\", 'dat', \"''\", \"''\", 'text', \"''\", \"''\", '4', \"''\", \"''\", 'georg', 'washington', \"''\", \"''\", 'first', 'inaug', 'address', \"''\", \"''\", 'thursday', 'april', '30', '1789', \"''\", \"''\", 'fellow-citizens', 'sen', 'hous', 'repres', 'among', 'vicissitud', 'incid', 'lif', 'ev', 'could', 'fil', 'gre', 'anxy', 'not', 'transmit', 'ord', 'receiv', 'th', 'day', 'pres', 'mon', 'on', 'hand', 'summon', 'country', 'whos', 'voic', 'nev', 'hear', 'ven', 'lov', 'ret', 'chos', 'fondest', 'predilect', 'flat', 'hop', 'immut', 'decid', 'asyl', 'declin', 'year', 'u+0097', 'ret', 'rend', 'every', 'day', 'necess', 'wel', 'dear', 'addit', 'habit', 'inclin', 'frequ', 'interrupt', 'heal', 'grad', 'wast', 'commit', 'tim', 'hand', 'magnitud', 'difficul', 'trust', 'voic', 'country', 'cal', 'sufficy', 'awak', 'wisest', 'expery', 'cit', 'distrust', 'scrutiny', 'qual', 'could', 'overwhelm', 'despond', 'on', 'inherit', 'infery', 'endow', 'nat', 'unpract', 'duty', 'civil', 'admin', 'ought', 'peculi', 'conscy', 'deficy', 'conflict', 'emot', 'dar', 'av', 'faith', 'study', 'collect', 'duty', 'apprecy', 'every', 'circumst', 'might', 'affect', 'dar', 'hop', 'execut', 'task', 'much', 'sway', 'grat', 'remembr', 'form', 'inst', 'affect', 'sens', 'transcend', 'proof', 'confid', 'fellow-citizens', 'thent', 'littl', 'consult', 'incapac', 'wel', 'disinclin', 'weighty', 'untry', 'car', 'er', 'pal', 'mot', 'mislead', 'consequ', 'judg', 'country', 'shar', 'part']\n"
     ]
    }
   ],
   "source": [
    "print(filtered_with_stem_lancaster)"
   ]
  },
  {
   "cell_type": "code",
   "execution_count": null,
   "metadata": {
    "collapsed": true
   },
   "outputs": [],
   "source": []
  }
 ],
 "metadata": {
  "kernelspec": {
   "display_name": "Python 3",
   "language": "python",
   "name": "python3"
  },
  "language_info": {
   "codemirror_mode": {
    "name": "ipython",
    "version": 3
   },
   "file_extension": ".py",
   "mimetype": "text/x-python",
   "name": "python",
   "nbconvert_exporter": "python",
   "pygments_lexer": "ipython3",
   "version": "3.5.3"
  }
 },
 "nbformat": 4,
 "nbformat_minor": 2
}
